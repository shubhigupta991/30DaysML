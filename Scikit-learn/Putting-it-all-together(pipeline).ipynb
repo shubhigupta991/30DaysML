{
 "cells": [
  {
   "cell_type": "markdown",
   "metadata": {},
   "source": [
    "## Showing data"
   ]
  },
  {
   "cell_type": "code",
   "execution_count": 1,
   "metadata": {},
   "outputs": [
    {
     "data": {
      "text/html": [
       "<div>\n",
       "<style scoped>\n",
       "    .dataframe tbody tr th:only-of-type {\n",
       "        vertical-align: middle;\n",
       "    }\n",
       "\n",
       "    .dataframe tbody tr th {\n",
       "        vertical-align: top;\n",
       "    }\n",
       "\n",
       "    .dataframe thead th {\n",
       "        text-align: right;\n",
       "    }\n",
       "</style>\n",
       "<table border=\"1\" class=\"dataframe\">\n",
       "  <thead>\n",
       "    <tr style=\"text-align: right;\">\n",
       "      <th></th>\n",
       "      <th>Make</th>\n",
       "      <th>Colour</th>\n",
       "      <th>Odometer (KM)</th>\n",
       "      <th>Doors</th>\n",
       "      <th>Price</th>\n",
       "    </tr>\n",
       "  </thead>\n",
       "  <tbody>\n",
       "    <tr>\n",
       "      <th>0</th>\n",
       "      <td>Honda</td>\n",
       "      <td>White</td>\n",
       "      <td>35431.0</td>\n",
       "      <td>4.0</td>\n",
       "      <td>15323.0</td>\n",
       "    </tr>\n",
       "    <tr>\n",
       "      <th>1</th>\n",
       "      <td>BMW</td>\n",
       "      <td>Blue</td>\n",
       "      <td>192714.0</td>\n",
       "      <td>5.0</td>\n",
       "      <td>19943.0</td>\n",
       "    </tr>\n",
       "    <tr>\n",
       "      <th>2</th>\n",
       "      <td>Honda</td>\n",
       "      <td>White</td>\n",
       "      <td>84714.0</td>\n",
       "      <td>4.0</td>\n",
       "      <td>28343.0</td>\n",
       "    </tr>\n",
       "    <tr>\n",
       "      <th>3</th>\n",
       "      <td>Toyota</td>\n",
       "      <td>White</td>\n",
       "      <td>154365.0</td>\n",
       "      <td>4.0</td>\n",
       "      <td>13434.0</td>\n",
       "    </tr>\n",
       "    <tr>\n",
       "      <th>4</th>\n",
       "      <td>Nissan</td>\n",
       "      <td>Blue</td>\n",
       "      <td>181577.0</td>\n",
       "      <td>3.0</td>\n",
       "      <td>14043.0</td>\n",
       "    </tr>\n",
       "    <tr>\n",
       "      <th>...</th>\n",
       "      <td>...</td>\n",
       "      <td>...</td>\n",
       "      <td>...</td>\n",
       "      <td>...</td>\n",
       "      <td>...</td>\n",
       "    </tr>\n",
       "    <tr>\n",
       "      <th>995</th>\n",
       "      <td>Toyota</td>\n",
       "      <td>Black</td>\n",
       "      <td>35820.0</td>\n",
       "      <td>4.0</td>\n",
       "      <td>32042.0</td>\n",
       "    </tr>\n",
       "    <tr>\n",
       "      <th>996</th>\n",
       "      <td>NaN</td>\n",
       "      <td>White</td>\n",
       "      <td>155144.0</td>\n",
       "      <td>3.0</td>\n",
       "      <td>5716.0</td>\n",
       "    </tr>\n",
       "    <tr>\n",
       "      <th>997</th>\n",
       "      <td>Nissan</td>\n",
       "      <td>Blue</td>\n",
       "      <td>66604.0</td>\n",
       "      <td>4.0</td>\n",
       "      <td>31570.0</td>\n",
       "    </tr>\n",
       "    <tr>\n",
       "      <th>998</th>\n",
       "      <td>Honda</td>\n",
       "      <td>White</td>\n",
       "      <td>215883.0</td>\n",
       "      <td>4.0</td>\n",
       "      <td>4001.0</td>\n",
       "    </tr>\n",
       "    <tr>\n",
       "      <th>999</th>\n",
       "      <td>Toyota</td>\n",
       "      <td>Blue</td>\n",
       "      <td>248360.0</td>\n",
       "      <td>4.0</td>\n",
       "      <td>12732.0</td>\n",
       "    </tr>\n",
       "  </tbody>\n",
       "</table>\n",
       "<p>1000 rows × 5 columns</p>\n",
       "</div>"
      ],
      "text/plain": [
       "       Make Colour  Odometer (KM)  Doors    Price\n",
       "0     Honda  White        35431.0    4.0  15323.0\n",
       "1       BMW   Blue       192714.0    5.0  19943.0\n",
       "2     Honda  White        84714.0    4.0  28343.0\n",
       "3    Toyota  White       154365.0    4.0  13434.0\n",
       "4    Nissan   Blue       181577.0    3.0  14043.0\n",
       "..      ...    ...            ...    ...      ...\n",
       "995  Toyota  Black        35820.0    4.0  32042.0\n",
       "996     NaN  White       155144.0    3.0   5716.0\n",
       "997  Nissan   Blue        66604.0    4.0  31570.0\n",
       "998   Honda  White       215883.0    4.0   4001.0\n",
       "999  Toyota   Blue       248360.0    4.0  12732.0\n",
       "\n",
       "[1000 rows x 5 columns]"
      ]
     },
     "execution_count": 1,
     "metadata": {},
     "output_type": "execute_result"
    }
   ],
   "source": [
    "import pandas as pd\n",
    "data = pd.read_csv('car-sales-extended-missing-data.csv')\n",
    "data"
   ]
  },
  {
   "cell_type": "code",
   "execution_count": 2,
   "metadata": {},
   "outputs": [
    {
     "data": {
      "text/plain": [
       "Make             49\n",
       "Colour           50\n",
       "Odometer (KM)    50\n",
       "Doors            50\n",
       "Price            50\n",
       "dtype: int64"
      ]
     },
     "execution_count": 2,
     "metadata": {},
     "output_type": "execute_result"
    }
   ],
   "source": [
    "data.isna().sum()"
   ]
  },
  {
   "cell_type": "code",
   "execution_count": 3,
   "metadata": {},
   "outputs": [
    {
     "data": {
      "text/plain": [
       "Make              object\n",
       "Colour            object\n",
       "Odometer (KM)    float64\n",
       "Doors            float64\n",
       "Price            float64\n",
       "dtype: object"
      ]
     },
     "execution_count": 3,
     "metadata": {},
     "output_type": "execute_result"
    }
   ],
   "source": [
    "data.dtypes"
   ]
  },
  {
   "cell_type": "markdown",
   "metadata": {},
   "source": [
    "### Steps to follow (all in one cell):-\n",
    "1. Fill missing values.\n",
    "2. Convert data to numbers.\n",
    "3. Building a model on data"
   ]
  },
  {
   "cell_type": "code",
   "execution_count": 4,
   "metadata": {},
   "outputs": [
    {
     "data": {
      "text/plain": [
       "0.32675658770525595"
      ]
     },
     "execution_count": 4,
     "metadata": {},
     "output_type": "execute_result"
    }
   ],
   "source": [
    "#Getting data ready \n",
    "import pandas as pd\n",
    "from sklearn.pipeline import Pipeline\n",
    "from sklearn.impute import SimpleImputer\n",
    "from sklearn.compose import ColumnTransformer\n",
    "from sklearn.preprocessing import OneHotEncoder\n",
    "\n",
    "#Modelling\n",
    "from sklearn.ensemble import RandomForestRegressor\n",
    "from sklearn.model_selection import train_test_split, GridSearchCV\n",
    "\n",
    "#Setup random seed\n",
    "import numpy as np\n",
    "np.random.seed(9)\n",
    "\n",
    "#Importing data and drop rows with no labels\n",
    "data = pd.read_csv('car-sales-extended-missing-data.csv')\n",
    "data.dropna(subset = ['Price'], inplace = True)\n",
    "\n",
    "#Defining different features and transformers\n",
    "cat_features = ['Make','Colour']\n",
    "cat_transformer = Pipeline(steps = [\n",
    "    ('imputer',SimpleImputer(strategy = 'constant',fill_value = 'missing')),\n",
    "    ('one_hot',OneHotEncoder(handle_unknown = 'ignore'))])\n",
    "\n",
    "door_feature = ['Doors']\n",
    "door_transformer = Pipeline(steps = [\n",
    "    ('imputer',SimpleImputer(strategy = 'constant',fill_value = 4))])\n",
    "\n",
    "numeric_feature = ['Odometer (KM)']\n",
    "numeric_transformer = Pipeline(steps = [\n",
    "    ('imputer',SimpleImputer(strategy = 'mean'))])\n",
    "\n",
    "#Seting up preprocessing steps (fill missing data,convert to numbers) \n",
    "preprocessor = ColumnTransformer(transformers=[\n",
    "    ('cat',cat_transformer,cat_features),\n",
    "    ('door',door_transformer,door_feature),\n",
    "    ('num',numeric_transformer,numeric_feature)])\n",
    "\n",
    "#Creating a preprocessor and modelling pipeline\n",
    "model = Pipeline(steps = [\n",
    "    ('preprocessor',preprocessor),\n",
    "    ('model',RandomForestRegressor())])\n",
    "\n",
    "#Split data\n",
    "X = data.drop('Price', axis = 1)\n",
    "y = data['Price']\n",
    "X_train, X_test, y_train, y_test = train_test_split(X, y, test_size = 0.2)\n",
    "\n",
    "# Fit and Score\n",
    "model.fit(X_train,y_train)\n",
    "model.score(X_test,y_test)"
   ]
  },
  {
   "cell_type": "code",
   "execution_count": 7,
   "metadata": {},
   "outputs": [
    {
     "name": "stdout",
     "output_type": "stream",
     "text": [
      "Fitting 5 folds for each of 16 candidates, totalling 80 fits\n",
      "[CV] model__max_depth=30, model__max_features=auto, model__min_samples_leaf=2, model__min_samples_split=4, model__n_estimators=200, preprocessor__num__imputer__strategy=mean \n"
     ]
    },
    {
     "name": "stderr",
     "output_type": "stream",
     "text": [
      "[Parallel(n_jobs=1)]: Using backend SequentialBackend with 1 concurrent workers.\n"
     ]
    },
    {
     "name": "stdout",
     "output_type": "stream",
     "text": [
      "[CV]  model__max_depth=30, model__max_features=auto, model__min_samples_leaf=2, model__min_samples_split=4, model__n_estimators=200, preprocessor__num__imputer__strategy=mean, total=   0.4s\n",
      "[CV] model__max_depth=30, model__max_features=auto, model__min_samples_leaf=2, model__min_samples_split=4, model__n_estimators=200, preprocessor__num__imputer__strategy=mean \n"
     ]
    },
    {
     "name": "stderr",
     "output_type": "stream",
     "text": [
      "[Parallel(n_jobs=1)]: Done   1 out of   1 | elapsed:    0.3s remaining:    0.0s\n"
     ]
    },
    {
     "name": "stdout",
     "output_type": "stream",
     "text": [
      "[CV]  model__max_depth=30, model__max_features=auto, model__min_samples_leaf=2, model__min_samples_split=4, model__n_estimators=200, preprocessor__num__imputer__strategy=mean, total=   0.4s\n",
      "[CV] model__max_depth=30, model__max_features=auto, model__min_samples_leaf=2, model__min_samples_split=4, model__n_estimators=200, preprocessor__num__imputer__strategy=mean \n",
      "[CV]  model__max_depth=30, model__max_features=auto, model__min_samples_leaf=2, model__min_samples_split=4, model__n_estimators=200, preprocessor__num__imputer__strategy=mean, total=   0.4s\n",
      "[CV] model__max_depth=30, model__max_features=auto, model__min_samples_leaf=2, model__min_samples_split=4, model__n_estimators=200, preprocessor__num__imputer__strategy=mean \n",
      "[CV]  model__max_depth=30, model__max_features=auto, model__min_samples_leaf=2, model__min_samples_split=4, model__n_estimators=200, preprocessor__num__imputer__strategy=mean, total=   0.4s\n",
      "[CV] model__max_depth=30, model__max_features=auto, model__min_samples_leaf=2, model__min_samples_split=4, model__n_estimators=200, preprocessor__num__imputer__strategy=mean \n",
      "[CV]  model__max_depth=30, model__max_features=auto, model__min_samples_leaf=2, model__min_samples_split=4, model__n_estimators=200, preprocessor__num__imputer__strategy=mean, total=   0.4s\n",
      "[CV] model__max_depth=30, model__max_features=auto, model__min_samples_leaf=2, model__min_samples_split=4, model__n_estimators=200, preprocessor__num__imputer__strategy=median \n",
      "[CV]  model__max_depth=30, model__max_features=auto, model__min_samples_leaf=2, model__min_samples_split=4, model__n_estimators=200, preprocessor__num__imputer__strategy=median, total=   0.4s\n",
      "[CV] model__max_depth=30, model__max_features=auto, model__min_samples_leaf=2, model__min_samples_split=4, model__n_estimators=200, preprocessor__num__imputer__strategy=median \n",
      "[CV]  model__max_depth=30, model__max_features=auto, model__min_samples_leaf=2, model__min_samples_split=4, model__n_estimators=200, preprocessor__num__imputer__strategy=median, total=   0.4s\n",
      "[CV] model__max_depth=30, model__max_features=auto, model__min_samples_leaf=2, model__min_samples_split=4, model__n_estimators=200, preprocessor__num__imputer__strategy=median \n",
      "[CV]  model__max_depth=30, model__max_features=auto, model__min_samples_leaf=2, model__min_samples_split=4, model__n_estimators=200, preprocessor__num__imputer__strategy=median, total=   0.4s\n",
      "[CV] model__max_depth=30, model__max_features=auto, model__min_samples_leaf=2, model__min_samples_split=4, model__n_estimators=200, preprocessor__num__imputer__strategy=median \n",
      "[CV]  model__max_depth=30, model__max_features=auto, model__min_samples_leaf=2, model__min_samples_split=4, model__n_estimators=200, preprocessor__num__imputer__strategy=median, total=   0.4s\n",
      "[CV] model__max_depth=30, model__max_features=auto, model__min_samples_leaf=2, model__min_samples_split=4, model__n_estimators=200, preprocessor__num__imputer__strategy=median \n",
      "[CV]  model__max_depth=30, model__max_features=auto, model__min_samples_leaf=2, model__min_samples_split=4, model__n_estimators=200, preprocessor__num__imputer__strategy=median, total=   0.4s\n",
      "[CV] model__max_depth=30, model__max_features=auto, model__min_samples_leaf=2, model__min_samples_split=4, model__n_estimators=1000, preprocessor__num__imputer__strategy=mean \n",
      "[CV]  model__max_depth=30, model__max_features=auto, model__min_samples_leaf=2, model__min_samples_split=4, model__n_estimators=1000, preprocessor__num__imputer__strategy=mean, total=   2.0s\n",
      "[CV] model__max_depth=30, model__max_features=auto, model__min_samples_leaf=2, model__min_samples_split=4, model__n_estimators=1000, preprocessor__num__imputer__strategy=mean \n",
      "[CV]  model__max_depth=30, model__max_features=auto, model__min_samples_leaf=2, model__min_samples_split=4, model__n_estimators=1000, preprocessor__num__imputer__strategy=mean, total=   1.9s\n",
      "[CV] model__max_depth=30, model__max_features=auto, model__min_samples_leaf=2, model__min_samples_split=4, model__n_estimators=1000, preprocessor__num__imputer__strategy=mean \n",
      "[CV]  model__max_depth=30, model__max_features=auto, model__min_samples_leaf=2, model__min_samples_split=4, model__n_estimators=1000, preprocessor__num__imputer__strategy=mean, total=   1.8s\n",
      "[CV] model__max_depth=30, model__max_features=auto, model__min_samples_leaf=2, model__min_samples_split=4, model__n_estimators=1000, preprocessor__num__imputer__strategy=mean \n",
      "[CV]  model__max_depth=30, model__max_features=auto, model__min_samples_leaf=2, model__min_samples_split=4, model__n_estimators=1000, preprocessor__num__imputer__strategy=mean, total=   1.9s\n",
      "[CV] model__max_depth=30, model__max_features=auto, model__min_samples_leaf=2, model__min_samples_split=4, model__n_estimators=1000, preprocessor__num__imputer__strategy=mean \n",
      "[CV]  model__max_depth=30, model__max_features=auto, model__min_samples_leaf=2, model__min_samples_split=4, model__n_estimators=1000, preprocessor__num__imputer__strategy=mean, total=   1.9s\n",
      "[CV] model__max_depth=30, model__max_features=auto, model__min_samples_leaf=2, model__min_samples_split=4, model__n_estimators=1000, preprocessor__num__imputer__strategy=median \n",
      "[CV]  model__max_depth=30, model__max_features=auto, model__min_samples_leaf=2, model__min_samples_split=4, model__n_estimators=1000, preprocessor__num__imputer__strategy=median, total=   1.9s\n",
      "[CV] model__max_depth=30, model__max_features=auto, model__min_samples_leaf=2, model__min_samples_split=4, model__n_estimators=1000, preprocessor__num__imputer__strategy=median \n",
      "[CV]  model__max_depth=30, model__max_features=auto, model__min_samples_leaf=2, model__min_samples_split=4, model__n_estimators=1000, preprocessor__num__imputer__strategy=median, total=   1.8s\n",
      "[CV] model__max_depth=30, model__max_features=auto, model__min_samples_leaf=2, model__min_samples_split=4, model__n_estimators=1000, preprocessor__num__imputer__strategy=median \n",
      "[CV]  model__max_depth=30, model__max_features=auto, model__min_samples_leaf=2, model__min_samples_split=4, model__n_estimators=1000, preprocessor__num__imputer__strategy=median, total=   1.9s\n",
      "[CV] model__max_depth=30, model__max_features=auto, model__min_samples_leaf=2, model__min_samples_split=4, model__n_estimators=1000, preprocessor__num__imputer__strategy=median \n",
      "[CV]  model__max_depth=30, model__max_features=auto, model__min_samples_leaf=2, model__min_samples_split=4, model__n_estimators=1000, preprocessor__num__imputer__strategy=median, total=   1.8s\n",
      "[CV] model__max_depth=30, model__max_features=auto, model__min_samples_leaf=2, model__min_samples_split=4, model__n_estimators=1000, preprocessor__num__imputer__strategy=median \n",
      "[CV]  model__max_depth=30, model__max_features=auto, model__min_samples_leaf=2, model__min_samples_split=4, model__n_estimators=1000, preprocessor__num__imputer__strategy=median, total=   1.9s\n",
      "[CV] model__max_depth=30, model__max_features=auto, model__min_samples_leaf=4, model__min_samples_split=4, model__n_estimators=200, preprocessor__num__imputer__strategy=mean \n",
      "[CV]  model__max_depth=30, model__max_features=auto, model__min_samples_leaf=4, model__min_samples_split=4, model__n_estimators=200, preprocessor__num__imputer__strategy=mean, total=   0.4s\n",
      "[CV] model__max_depth=30, model__max_features=auto, model__min_samples_leaf=4, model__min_samples_split=4, model__n_estimators=200, preprocessor__num__imputer__strategy=mean \n",
      "[CV]  model__max_depth=30, model__max_features=auto, model__min_samples_leaf=4, model__min_samples_split=4, model__n_estimators=200, preprocessor__num__imputer__strategy=mean, total=   0.3s\n",
      "[CV] model__max_depth=30, model__max_features=auto, model__min_samples_leaf=4, model__min_samples_split=4, model__n_estimators=200, preprocessor__num__imputer__strategy=mean \n",
      "[CV]  model__max_depth=30, model__max_features=auto, model__min_samples_leaf=4, model__min_samples_split=4, model__n_estimators=200, preprocessor__num__imputer__strategy=mean, total=   0.3s\n",
      "[CV] model__max_depth=30, model__max_features=auto, model__min_samples_leaf=4, model__min_samples_split=4, model__n_estimators=200, preprocessor__num__imputer__strategy=mean \n",
      "[CV]  model__max_depth=30, model__max_features=auto, model__min_samples_leaf=4, model__min_samples_split=4, model__n_estimators=200, preprocessor__num__imputer__strategy=mean, total=   0.4s\n",
      "[CV] model__max_depth=30, model__max_features=auto, model__min_samples_leaf=4, model__min_samples_split=4, model__n_estimators=200, preprocessor__num__imputer__strategy=mean \n"
     ]
    },
    {
     "name": "stdout",
     "output_type": "stream",
     "text": [
      "[CV]  model__max_depth=30, model__max_features=auto, model__min_samples_leaf=4, model__min_samples_split=4, model__n_estimators=200, preprocessor__num__imputer__strategy=mean, total=   0.3s\n",
      "[CV] model__max_depth=30, model__max_features=auto, model__min_samples_leaf=4, model__min_samples_split=4, model__n_estimators=200, preprocessor__num__imputer__strategy=median \n",
      "[CV]  model__max_depth=30, model__max_features=auto, model__min_samples_leaf=4, model__min_samples_split=4, model__n_estimators=200, preprocessor__num__imputer__strategy=median, total=   0.3s\n",
      "[CV] model__max_depth=30, model__max_features=auto, model__min_samples_leaf=4, model__min_samples_split=4, model__n_estimators=200, preprocessor__num__imputer__strategy=median \n",
      "[CV]  model__max_depth=30, model__max_features=auto, model__min_samples_leaf=4, model__min_samples_split=4, model__n_estimators=200, preprocessor__num__imputer__strategy=median, total=   0.4s\n",
      "[CV] model__max_depth=30, model__max_features=auto, model__min_samples_leaf=4, model__min_samples_split=4, model__n_estimators=200, preprocessor__num__imputer__strategy=median \n",
      "[CV]  model__max_depth=30, model__max_features=auto, model__min_samples_leaf=4, model__min_samples_split=4, model__n_estimators=200, preprocessor__num__imputer__strategy=median, total=   0.4s\n",
      "[CV] model__max_depth=30, model__max_features=auto, model__min_samples_leaf=4, model__min_samples_split=4, model__n_estimators=200, preprocessor__num__imputer__strategy=median \n",
      "[CV]  model__max_depth=30, model__max_features=auto, model__min_samples_leaf=4, model__min_samples_split=4, model__n_estimators=200, preprocessor__num__imputer__strategy=median, total=   0.3s\n",
      "[CV] model__max_depth=30, model__max_features=auto, model__min_samples_leaf=4, model__min_samples_split=4, model__n_estimators=200, preprocessor__num__imputer__strategy=median \n",
      "[CV]  model__max_depth=30, model__max_features=auto, model__min_samples_leaf=4, model__min_samples_split=4, model__n_estimators=200, preprocessor__num__imputer__strategy=median, total=   0.4s\n",
      "[CV] model__max_depth=30, model__max_features=auto, model__min_samples_leaf=4, model__min_samples_split=4, model__n_estimators=1000, preprocessor__num__imputer__strategy=mean \n",
      "[CV]  model__max_depth=30, model__max_features=auto, model__min_samples_leaf=4, model__min_samples_split=4, model__n_estimators=1000, preprocessor__num__imputer__strategy=mean, total=   1.7s\n",
      "[CV] model__max_depth=30, model__max_features=auto, model__min_samples_leaf=4, model__min_samples_split=4, model__n_estimators=1000, preprocessor__num__imputer__strategy=mean \n",
      "[CV]  model__max_depth=30, model__max_features=auto, model__min_samples_leaf=4, model__min_samples_split=4, model__n_estimators=1000, preprocessor__num__imputer__strategy=mean, total=   1.6s\n",
      "[CV] model__max_depth=30, model__max_features=auto, model__min_samples_leaf=4, model__min_samples_split=4, model__n_estimators=1000, preprocessor__num__imputer__strategy=mean \n",
      "[CV]  model__max_depth=30, model__max_features=auto, model__min_samples_leaf=4, model__min_samples_split=4, model__n_estimators=1000, preprocessor__num__imputer__strategy=mean, total=   1.7s\n",
      "[CV] model__max_depth=30, model__max_features=auto, model__min_samples_leaf=4, model__min_samples_split=4, model__n_estimators=1000, preprocessor__num__imputer__strategy=mean \n",
      "[CV]  model__max_depth=30, model__max_features=auto, model__min_samples_leaf=4, model__min_samples_split=4, model__n_estimators=1000, preprocessor__num__imputer__strategy=mean, total=   1.6s\n",
      "[CV] model__max_depth=30, model__max_features=auto, model__min_samples_leaf=4, model__min_samples_split=4, model__n_estimators=1000, preprocessor__num__imputer__strategy=mean \n",
      "[CV]  model__max_depth=30, model__max_features=auto, model__min_samples_leaf=4, model__min_samples_split=4, model__n_estimators=1000, preprocessor__num__imputer__strategy=mean, total=   1.7s\n",
      "[CV] model__max_depth=30, model__max_features=auto, model__min_samples_leaf=4, model__min_samples_split=4, model__n_estimators=1000, preprocessor__num__imputer__strategy=median \n",
      "[CV]  model__max_depth=30, model__max_features=auto, model__min_samples_leaf=4, model__min_samples_split=4, model__n_estimators=1000, preprocessor__num__imputer__strategy=median, total=   1.6s\n",
      "[CV] model__max_depth=30, model__max_features=auto, model__min_samples_leaf=4, model__min_samples_split=4, model__n_estimators=1000, preprocessor__num__imputer__strategy=median \n",
      "[CV]  model__max_depth=30, model__max_features=auto, model__min_samples_leaf=4, model__min_samples_split=4, model__n_estimators=1000, preprocessor__num__imputer__strategy=median, total=   1.9s\n",
      "[CV] model__max_depth=30, model__max_features=auto, model__min_samples_leaf=4, model__min_samples_split=4, model__n_estimators=1000, preprocessor__num__imputer__strategy=median \n",
      "[CV]  model__max_depth=30, model__max_features=auto, model__min_samples_leaf=4, model__min_samples_split=4, model__n_estimators=1000, preprocessor__num__imputer__strategy=median, total=   1.7s\n",
      "[CV] model__max_depth=30, model__max_features=auto, model__min_samples_leaf=4, model__min_samples_split=4, model__n_estimators=1000, preprocessor__num__imputer__strategy=median \n",
      "[CV]  model__max_depth=30, model__max_features=auto, model__min_samples_leaf=4, model__min_samples_split=4, model__n_estimators=1000, preprocessor__num__imputer__strategy=median, total=   1.7s\n",
      "[CV] model__max_depth=30, model__max_features=auto, model__min_samples_leaf=4, model__min_samples_split=4, model__n_estimators=1000, preprocessor__num__imputer__strategy=median \n",
      "[CV]  model__max_depth=30, model__max_features=auto, model__min_samples_leaf=4, model__min_samples_split=4, model__n_estimators=1000, preprocessor__num__imputer__strategy=median, total=   1.8s\n",
      "[CV] model__max_depth=30, model__max_features=sqrt, model__min_samples_leaf=2, model__min_samples_split=4, model__n_estimators=200, preprocessor__num__imputer__strategy=mean \n",
      "[CV]  model__max_depth=30, model__max_features=sqrt, model__min_samples_leaf=2, model__min_samples_split=4, model__n_estimators=200, preprocessor__num__imputer__strategy=mean, total=   0.4s\n",
      "[CV] model__max_depth=30, model__max_features=sqrt, model__min_samples_leaf=2, model__min_samples_split=4, model__n_estimators=200, preprocessor__num__imputer__strategy=mean \n",
      "[CV]  model__max_depth=30, model__max_features=sqrt, model__min_samples_leaf=2, model__min_samples_split=4, model__n_estimators=200, preprocessor__num__imputer__strategy=mean, total=   0.4s\n",
      "[CV] model__max_depth=30, model__max_features=sqrt, model__min_samples_leaf=2, model__min_samples_split=4, model__n_estimators=200, preprocessor__num__imputer__strategy=mean \n",
      "[CV]  model__max_depth=30, model__max_features=sqrt, model__min_samples_leaf=2, model__min_samples_split=4, model__n_estimators=200, preprocessor__num__imputer__strategy=mean, total=   0.4s\n",
      "[CV] model__max_depth=30, model__max_features=sqrt, model__min_samples_leaf=2, model__min_samples_split=4, model__n_estimators=200, preprocessor__num__imputer__strategy=mean \n",
      "[CV]  model__max_depth=30, model__max_features=sqrt, model__min_samples_leaf=2, model__min_samples_split=4, model__n_estimators=200, preprocessor__num__imputer__strategy=mean, total=   0.3s\n",
      "[CV] model__max_depth=30, model__max_features=sqrt, model__min_samples_leaf=2, model__min_samples_split=4, model__n_estimators=200, preprocessor__num__imputer__strategy=mean \n",
      "[CV]  model__max_depth=30, model__max_features=sqrt, model__min_samples_leaf=2, model__min_samples_split=4, model__n_estimators=200, preprocessor__num__imputer__strategy=mean, total=   0.3s\n",
      "[CV] model__max_depth=30, model__max_features=sqrt, model__min_samples_leaf=2, model__min_samples_split=4, model__n_estimators=200, preprocessor__num__imputer__strategy=median \n",
      "[CV]  model__max_depth=30, model__max_features=sqrt, model__min_samples_leaf=2, model__min_samples_split=4, model__n_estimators=200, preprocessor__num__imputer__strategy=median, total=   0.3s\n",
      "[CV] model__max_depth=30, model__max_features=sqrt, model__min_samples_leaf=2, model__min_samples_split=4, model__n_estimators=200, preprocessor__num__imputer__strategy=median \n",
      "[CV]  model__max_depth=30, model__max_features=sqrt, model__min_samples_leaf=2, model__min_samples_split=4, model__n_estimators=200, preprocessor__num__imputer__strategy=median, total=   0.3s\n",
      "[CV] model__max_depth=30, model__max_features=sqrt, model__min_samples_leaf=2, model__min_samples_split=4, model__n_estimators=200, preprocessor__num__imputer__strategy=median \n"
     ]
    },
    {
     "name": "stdout",
     "output_type": "stream",
     "text": [
      "[CV]  model__max_depth=30, model__max_features=sqrt, model__min_samples_leaf=2, model__min_samples_split=4, model__n_estimators=200, preprocessor__num__imputer__strategy=median, total=   0.3s\n",
      "[CV] model__max_depth=30, model__max_features=sqrt, model__min_samples_leaf=2, model__min_samples_split=4, model__n_estimators=200, preprocessor__num__imputer__strategy=median \n",
      "[CV]  model__max_depth=30, model__max_features=sqrt, model__min_samples_leaf=2, model__min_samples_split=4, model__n_estimators=200, preprocessor__num__imputer__strategy=median, total=   0.3s\n",
      "[CV] model__max_depth=30, model__max_features=sqrt, model__min_samples_leaf=2, model__min_samples_split=4, model__n_estimators=200, preprocessor__num__imputer__strategy=median \n",
      "[CV]  model__max_depth=30, model__max_features=sqrt, model__min_samples_leaf=2, model__min_samples_split=4, model__n_estimators=200, preprocessor__num__imputer__strategy=median, total=   0.3s\n",
      "[CV] model__max_depth=30, model__max_features=sqrt, model__min_samples_leaf=2, model__min_samples_split=4, model__n_estimators=1000, preprocessor__num__imputer__strategy=mean \n",
      "[CV]  model__max_depth=30, model__max_features=sqrt, model__min_samples_leaf=2, model__min_samples_split=4, model__n_estimators=1000, preprocessor__num__imputer__strategy=mean, total=   1.7s\n",
      "[CV] model__max_depth=30, model__max_features=sqrt, model__min_samples_leaf=2, model__min_samples_split=4, model__n_estimators=1000, preprocessor__num__imputer__strategy=mean \n",
      "[CV]  model__max_depth=30, model__max_features=sqrt, model__min_samples_leaf=2, model__min_samples_split=4, model__n_estimators=1000, preprocessor__num__imputer__strategy=mean, total=   1.5s\n",
      "[CV] model__max_depth=30, model__max_features=sqrt, model__min_samples_leaf=2, model__min_samples_split=4, model__n_estimators=1000, preprocessor__num__imputer__strategy=mean \n",
      "[CV]  model__max_depth=30, model__max_features=sqrt, model__min_samples_leaf=2, model__min_samples_split=4, model__n_estimators=1000, preprocessor__num__imputer__strategy=mean, total=   1.4s\n",
      "[CV] model__max_depth=30, model__max_features=sqrt, model__min_samples_leaf=2, model__min_samples_split=4, model__n_estimators=1000, preprocessor__num__imputer__strategy=mean \n",
      "[CV]  model__max_depth=30, model__max_features=sqrt, model__min_samples_leaf=2, model__min_samples_split=4, model__n_estimators=1000, preprocessor__num__imputer__strategy=mean, total=   1.4s\n",
      "[CV] model__max_depth=30, model__max_features=sqrt, model__min_samples_leaf=2, model__min_samples_split=4, model__n_estimators=1000, preprocessor__num__imputer__strategy=mean \n",
      "[CV]  model__max_depth=30, model__max_features=sqrt, model__min_samples_leaf=2, model__min_samples_split=4, model__n_estimators=1000, preprocessor__num__imputer__strategy=mean, total=   1.6s\n",
      "[CV] model__max_depth=30, model__max_features=sqrt, model__min_samples_leaf=2, model__min_samples_split=4, model__n_estimators=1000, preprocessor__num__imputer__strategy=median \n",
      "[CV]  model__max_depth=30, model__max_features=sqrt, model__min_samples_leaf=2, model__min_samples_split=4, model__n_estimators=1000, preprocessor__num__imputer__strategy=median, total=   1.4s\n",
      "[CV] model__max_depth=30, model__max_features=sqrt, model__min_samples_leaf=2, model__min_samples_split=4, model__n_estimators=1000, preprocessor__num__imputer__strategy=median \n",
      "[CV]  model__max_depth=30, model__max_features=sqrt, model__min_samples_leaf=2, model__min_samples_split=4, model__n_estimators=1000, preprocessor__num__imputer__strategy=median, total=   1.4s\n",
      "[CV] model__max_depth=30, model__max_features=sqrt, model__min_samples_leaf=2, model__min_samples_split=4, model__n_estimators=1000, preprocessor__num__imputer__strategy=median \n",
      "[CV]  model__max_depth=30, model__max_features=sqrt, model__min_samples_leaf=2, model__min_samples_split=4, model__n_estimators=1000, preprocessor__num__imputer__strategy=median, total=   1.5s\n",
      "[CV] model__max_depth=30, model__max_features=sqrt, model__min_samples_leaf=2, model__min_samples_split=4, model__n_estimators=1000, preprocessor__num__imputer__strategy=median \n",
      "[CV]  model__max_depth=30, model__max_features=sqrt, model__min_samples_leaf=2, model__min_samples_split=4, model__n_estimators=1000, preprocessor__num__imputer__strategy=median, total=   1.5s\n",
      "[CV] model__max_depth=30, model__max_features=sqrt, model__min_samples_leaf=2, model__min_samples_split=4, model__n_estimators=1000, preprocessor__num__imputer__strategy=median \n",
      "[CV]  model__max_depth=30, model__max_features=sqrt, model__min_samples_leaf=2, model__min_samples_split=4, model__n_estimators=1000, preprocessor__num__imputer__strategy=median, total=   1.4s\n",
      "[CV] model__max_depth=30, model__max_features=sqrt, model__min_samples_leaf=4, model__min_samples_split=4, model__n_estimators=200, preprocessor__num__imputer__strategy=mean \n",
      "[CV]  model__max_depth=30, model__max_features=sqrt, model__min_samples_leaf=4, model__min_samples_split=4, model__n_estimators=200, preprocessor__num__imputer__strategy=mean, total=   0.3s\n",
      "[CV] model__max_depth=30, model__max_features=sqrt, model__min_samples_leaf=4, model__min_samples_split=4, model__n_estimators=200, preprocessor__num__imputer__strategy=mean \n",
      "[CV]  model__max_depth=30, model__max_features=sqrt, model__min_samples_leaf=4, model__min_samples_split=4, model__n_estimators=200, preprocessor__num__imputer__strategy=mean, total=   0.3s\n",
      "[CV] model__max_depth=30, model__max_features=sqrt, model__min_samples_leaf=4, model__min_samples_split=4, model__n_estimators=200, preprocessor__num__imputer__strategy=mean \n",
      "[CV]  model__max_depth=30, model__max_features=sqrt, model__min_samples_leaf=4, model__min_samples_split=4, model__n_estimators=200, preprocessor__num__imputer__strategy=mean, total=   0.3s\n",
      "[CV] model__max_depth=30, model__max_features=sqrt, model__min_samples_leaf=4, model__min_samples_split=4, model__n_estimators=200, preprocessor__num__imputer__strategy=mean \n",
      "[CV]  model__max_depth=30, model__max_features=sqrt, model__min_samples_leaf=4, model__min_samples_split=4, model__n_estimators=200, preprocessor__num__imputer__strategy=mean, total=   0.3s\n",
      "[CV] model__max_depth=30, model__max_features=sqrt, model__min_samples_leaf=4, model__min_samples_split=4, model__n_estimators=200, preprocessor__num__imputer__strategy=mean \n",
      "[CV]  model__max_depth=30, model__max_features=sqrt, model__min_samples_leaf=4, model__min_samples_split=4, model__n_estimators=200, preprocessor__num__imputer__strategy=mean, total=   0.3s\n",
      "[CV] model__max_depth=30, model__max_features=sqrt, model__min_samples_leaf=4, model__min_samples_split=4, model__n_estimators=200, preprocessor__num__imputer__strategy=median \n",
      "[CV]  model__max_depth=30, model__max_features=sqrt, model__min_samples_leaf=4, model__min_samples_split=4, model__n_estimators=200, preprocessor__num__imputer__strategy=median, total=   0.3s\n",
      "[CV] model__max_depth=30, model__max_features=sqrt, model__min_samples_leaf=4, model__min_samples_split=4, model__n_estimators=200, preprocessor__num__imputer__strategy=median \n",
      "[CV]  model__max_depth=30, model__max_features=sqrt, model__min_samples_leaf=4, model__min_samples_split=4, model__n_estimators=200, preprocessor__num__imputer__strategy=median, total=   0.3s\n",
      "[CV] model__max_depth=30, model__max_features=sqrt, model__min_samples_leaf=4, model__min_samples_split=4, model__n_estimators=200, preprocessor__num__imputer__strategy=median \n",
      "[CV]  model__max_depth=30, model__max_features=sqrt, model__min_samples_leaf=4, model__min_samples_split=4, model__n_estimators=200, preprocessor__num__imputer__strategy=median, total=   0.3s\n",
      "[CV] model__max_depth=30, model__max_features=sqrt, model__min_samples_leaf=4, model__min_samples_split=4, model__n_estimators=200, preprocessor__num__imputer__strategy=median \n",
      "[CV]  model__max_depth=30, model__max_features=sqrt, model__min_samples_leaf=4, model__min_samples_split=4, model__n_estimators=200, preprocessor__num__imputer__strategy=median, total=   0.3s\n",
      "[CV] model__max_depth=30, model__max_features=sqrt, model__min_samples_leaf=4, model__min_samples_split=4, model__n_estimators=200, preprocessor__num__imputer__strategy=median \n",
      "[CV]  model__max_depth=30, model__max_features=sqrt, model__min_samples_leaf=4, model__min_samples_split=4, model__n_estimators=200, preprocessor__num__imputer__strategy=median, total=   0.3s\n",
      "[CV] model__max_depth=30, model__max_features=sqrt, model__min_samples_leaf=4, model__min_samples_split=4, model__n_estimators=1000, preprocessor__num__imputer__strategy=mean \n"
     ]
    },
    {
     "name": "stdout",
     "output_type": "stream",
     "text": [
      "[CV]  model__max_depth=30, model__max_features=sqrt, model__min_samples_leaf=4, model__min_samples_split=4, model__n_estimators=1000, preprocessor__num__imputer__strategy=mean, total=   1.4s\n",
      "[CV] model__max_depth=30, model__max_features=sqrt, model__min_samples_leaf=4, model__min_samples_split=4, model__n_estimators=1000, preprocessor__num__imputer__strategy=mean \n",
      "[CV]  model__max_depth=30, model__max_features=sqrt, model__min_samples_leaf=4, model__min_samples_split=4, model__n_estimators=1000, preprocessor__num__imputer__strategy=mean, total=   1.2s\n",
      "[CV] model__max_depth=30, model__max_features=sqrt, model__min_samples_leaf=4, model__min_samples_split=4, model__n_estimators=1000, preprocessor__num__imputer__strategy=mean \n",
      "[CV]  model__max_depth=30, model__max_features=sqrt, model__min_samples_leaf=4, model__min_samples_split=4, model__n_estimators=1000, preprocessor__num__imputer__strategy=mean, total=   1.3s\n",
      "[CV] model__max_depth=30, model__max_features=sqrt, model__min_samples_leaf=4, model__min_samples_split=4, model__n_estimators=1000, preprocessor__num__imputer__strategy=mean \n",
      "[CV]  model__max_depth=30, model__max_features=sqrt, model__min_samples_leaf=4, model__min_samples_split=4, model__n_estimators=1000, preprocessor__num__imputer__strategy=mean, total=   1.3s\n",
      "[CV] model__max_depth=30, model__max_features=sqrt, model__min_samples_leaf=4, model__min_samples_split=4, model__n_estimators=1000, preprocessor__num__imputer__strategy=mean \n",
      "[CV]  model__max_depth=30, model__max_features=sqrt, model__min_samples_leaf=4, model__min_samples_split=4, model__n_estimators=1000, preprocessor__num__imputer__strategy=mean, total=   1.4s\n",
      "[CV] model__max_depth=30, model__max_features=sqrt, model__min_samples_leaf=4, model__min_samples_split=4, model__n_estimators=1000, preprocessor__num__imputer__strategy=median \n",
      "[CV]  model__max_depth=30, model__max_features=sqrt, model__min_samples_leaf=4, model__min_samples_split=4, model__n_estimators=1000, preprocessor__num__imputer__strategy=median, total=   1.3s\n",
      "[CV] model__max_depth=30, model__max_features=sqrt, model__min_samples_leaf=4, model__min_samples_split=4, model__n_estimators=1000, preprocessor__num__imputer__strategy=median \n",
      "[CV]  model__max_depth=30, model__max_features=sqrt, model__min_samples_leaf=4, model__min_samples_split=4, model__n_estimators=1000, preprocessor__num__imputer__strategy=median, total=   1.3s\n",
      "[CV] model__max_depth=30, model__max_features=sqrt, model__min_samples_leaf=4, model__min_samples_split=4, model__n_estimators=1000, preprocessor__num__imputer__strategy=median \n",
      "[CV]  model__max_depth=30, model__max_features=sqrt, model__min_samples_leaf=4, model__min_samples_split=4, model__n_estimators=1000, preprocessor__num__imputer__strategy=median, total=   1.3s\n",
      "[CV] model__max_depth=30, model__max_features=sqrt, model__min_samples_leaf=4, model__min_samples_split=4, model__n_estimators=1000, preprocessor__num__imputer__strategy=median \n",
      "[CV]  model__max_depth=30, model__max_features=sqrt, model__min_samples_leaf=4, model__min_samples_split=4, model__n_estimators=1000, preprocessor__num__imputer__strategy=median, total=   1.3s\n",
      "[CV] model__max_depth=30, model__max_features=sqrt, model__min_samples_leaf=4, model__min_samples_split=4, model__n_estimators=1000, preprocessor__num__imputer__strategy=median \n",
      "[CV]  model__max_depth=30, model__max_features=sqrt, model__min_samples_leaf=4, model__min_samples_split=4, model__n_estimators=1000, preprocessor__num__imputer__strategy=median, total=   1.8s\n"
     ]
    },
    {
     "name": "stderr",
     "output_type": "stream",
     "text": [
      "[Parallel(n_jobs=1)]: Done  80 out of  80 | elapsed:  1.3min finished\n"
     ]
    }
   ],
   "source": [
    "pipe_grid = {\n",
    "    'preprocessor__num__imputer__strategy' : ['mean','median'],\n",
    "    'model__n_estimators' : [200,1000],\n",
    "    'model__max_depth' : [30],\n",
    "    'model__max_features' : ['auto','sqrt'],\n",
    "    'model__min_samples_split' : [4],\n",
    "    'model__min_samples_leaf' : [2,4],\n",
    "}\n",
    "\n",
    "gs_model = GridSearchCV(model,pipe_grid,cv=5,verbose=2)\n",
    "gs_model.fit(X_train,y_train);"
   ]
  },
  {
   "cell_type": "code",
   "execution_count": 8,
   "metadata": {},
   "outputs": [
    {
     "data": {
      "text/plain": [
       "0.37111429887575276"
      ]
     },
     "execution_count": 8,
     "metadata": {},
     "output_type": "execute_result"
    }
   ],
   "source": [
    "gs_model.score(X_test,y_test)"
   ]
  }
 ],
 "metadata": {
  "kernelspec": {
   "display_name": "Python 3",
   "language": "python",
   "name": "python3"
  },
  "language_info": {
   "codemirror_mode": {
    "name": "ipython",
    "version": 3
   },
   "file_extension": ".py",
   "mimetype": "text/x-python",
   "name": "python",
   "nbconvert_exporter": "python",
   "pygments_lexer": "ipython3",
   "version": "3.8.3"
  }
 },
 "nbformat": 4,
 "nbformat_minor": 4
}
